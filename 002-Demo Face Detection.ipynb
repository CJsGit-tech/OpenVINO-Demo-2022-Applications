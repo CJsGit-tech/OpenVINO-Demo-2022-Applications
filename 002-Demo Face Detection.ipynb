{
 "cells": [
  {
   "cell_type": "code",
   "execution_count": 1,
   "id": "7a799cd5",
   "metadata": {},
   "outputs": [],
   "source": [
    "import cv2\n",
    "import matplotlib.pyplot as plt\n",
    "import numpy as np\n",
    "from utils.vino_functions import PrepareNetWork,PrepareInputImage,MakePrediction\n",
    "from pathlib import Path\n",
    "import time"
   ]
  },
  {
   "cell_type": "markdown",
   "id": "43ec1ac0",
   "metadata": {},
   "source": [
    "## Models"
   ]
  },
  {
   "cell_type": "code",
   "execution_count": 2,
   "id": "983f0efa",
   "metadata": {},
   "outputs": [],
   "source": [
    "model_root = Path('model/intel')\n",
    "facenet_bin = model_root / 'face-detection-retail-0005/FP16/face-detection-retail-0005.bin'\n",
    "facenet_xml = model_root / 'face-detection-retail-0005/FP16/face-detection-retail-0005.xml'\n",
    "\n",
    "emotion_bin = model_root / 'emotions-recognition-retail-0003/FP16/emotions-recognition-retail-0003.bin'\n",
    "emotion_xml = model_root / 'emotions-recognition-retail-0003/FP16/emotions-recognition-retail-0003.xml'\n",
    "\n",
    "style_trans = model_root / 'style-GAN/StyleGAN.onnx'\n",
    "\n",
    "device1 = 'CPU'\n",
    "device2 = 'GPU'\n",
    "\n",
    "emotion_label = ('Neutral', 'Happy', 'Sad', 'Surprise', 'Anger')"
   ]
  },
  {
   "cell_type": "markdown",
   "id": "843e5f22",
   "metadata": {},
   "source": [
    "#### Prepare Models"
   ]
  },
  {
   "cell_type": "code",
   "execution_count": 3,
   "id": "7fb3c387",
   "metadata": {},
   "outputs": [
    {
     "name": "stdout",
     "output_type": "stream",
     "text": [
      "Extract Model Input Dimension: 1 3 300 300\n",
      "Extract Model Input Dimension: 1 3 64 64\n",
      "Extract Model Input Dimension: 1 3 224 224\n"
     ]
    }
   ],
   "source": [
    "facenet_names, facenet_exec_net, facenet_img_shape = PrepareNetWork(facenet_xml,facenet_bin,device1)\n",
    "emotion_names, emotion_exec_net, emotion_img_shape = PrepareNetWork(emotion_xml,emotion_bin,device2)\n",
    "style_names, style_exec_net, style_img_shape = PrepareNetWork(style_trans,None,device2,flag='onnx')"
   ]
  },
  {
   "cell_type": "code",
   "execution_count": 4,
   "id": "5c14d05d",
   "metadata": {},
   "outputs": [],
   "source": [
    "# image = cv2.imread('data/face.jpg')\n",
    "# image = cv2.resize(image,(224,224))\n",
    "# image.shape"
   ]
  },
  {
   "cell_type": "code",
   "execution_count": 5,
   "id": "92d78b19",
   "metadata": {},
   "outputs": [],
   "source": [
    "# _, in_frame = PrepareInputImage(image,style_img_shape)\n",
    "# result = MakePrediction(style_exec_net, style_names[0], in_frame)"
   ]
  },
  {
   "cell_type": "code",
   "execution_count": 6,
   "id": "de870de2",
   "metadata": {},
   "outputs": [],
   "source": [
    "# styled_image = result[style_names[1]]\n",
    "# styled_image.shape\n",
    "# # styled_image = styled_image[0]\n",
    "# # styled_image = styled_image.transpose((1,2,0))\n",
    "# # styled_image = np.clip(styled_image, 0, 255)\n",
    "\n",
    "# # plt.imshow(styled_image/255)\n",
    "# # plt.axis('off')\n",
    "# # plt.show()"
   ]
  },
  {
   "cell_type": "code",
   "execution_count": 11,
   "id": "969057a7",
   "metadata": {},
   "outputs": [],
   "source": [
    "def detection_box(result, output_key, prob_thresh, image):\n",
    "    res = result[output_key].reshape(200,7)\n",
    "    height,width = image.shape[:2]\n",
    "    face_image = image.copy()\n",
    "    \n",
    "    \n",
    "    for obj in res:\n",
    "        conf = obj[2]\n",
    "        # Get Class ID\n",
    "        class_id = int(obj[1])\n",
    "        \n",
    "        if conf >= prob_thresh:\n",
    "            \n",
    "            # get coordinates\n",
    "            xmin = int(obj[3] * width)\n",
    "            ymin = int(obj[4] * height)\n",
    "            xmax = int(obj[5] * width)\n",
    "            ymax = int(obj[6] * height)\n",
    "#             print(xmin,ymin)\n",
    "            \n",
    "            \n",
    "            face_image = image[ymin-10:ymax+10,xmin-10:xmax+10]\n",
    "            _, in_frame = PrepareInputImage(face_image, emotion_img_shape)\n",
    "            result = MakePrediction(emotion_exec_net, emotion_names[0], in_frame)\n",
    "            emo_proba = result[emotion_names[1]].flatten()\n",
    "            emo_label = emotion_label[np.argmax(emo_proba)]\n",
    "#             print(emo_label)\n",
    "\n",
    "\n",
    "            _, in_frame = PrepareInputImage(face_image,style_img_shape)\n",
    "            result = MakePrediction(style_exec_net, style_names[0], in_frame)\n",
    "            styled_image = result[style_names[1]]\n",
    "            styled_image = styled_image[0]\n",
    "            styled_image = styled_image.transpose((1,2,0))\n",
    "            styled_image = np.clip(styled_image, 0, 255)\n",
    "            styled_image = cv2.resize(styled_image,(face_image.shape[1],face_image.shape[0]))\n",
    "            \n",
    "            \n",
    "#             print(styled_image.shape,image[ymin-10:ymax+10,xmin-10:xmax+10].shape)\n",
    "            \n",
    "            image[ymin-10:ymax+10,xmin-10:xmax+10] = cv2.blur(styled_image,(13,13))\n",
    "\n",
    "            \n",
    "\n",
    "\n",
    "            \n",
    "            \n",
    "            cv2.rectangle(image, (xmin, ymin), (xmax, ymax), color=(0, 255, 0))\n",
    "        \n",
    "            cv2.putText(frame,text=f\"Emotion Status: {emo_label}\",\n",
    "                        org=(xmin,ymin-5),  # X. Y\n",
    "                        fontFace=font,fontScale= 0.5,color=(0,255,125),thickness=2,lineType=cv2.LINE_AA)            \n",
    "            \n",
    "            \n",
    "        \n",
    "            \n",
    "            \n"
   ]
  },
  {
   "cell_type": "code",
   "execution_count": 13,
   "id": "5d189ba0",
   "metadata": {},
   "outputs": [],
   "source": [
    "# Video Reading utility \n",
    "cap = cv2.VideoCapture(0)\n",
    "font = cv2.FONT_HERSHEY_SIMPLEX\n",
    "width = int(cap.get(cv2.CAP_PROP_FRAME_WIDTH))\n",
    "height = int(cap.get(cv2.CAP_PROP_FRAME_HEIGHT))\n",
    "\n",
    "frame_name = 0\n",
    "\n",
    "while cap.isOpened():\n",
    "\n",
    "\n",
    "    ret, frame = cap.read()\n",
    "    \n",
    "    frame_name += 1\n",
    "    \n",
    "    if not ret:\n",
    "        # No Frames to render\n",
    "        break\n",
    "        \n",
    "    start_time = time.time()\n",
    "        \n",
    "    _, in_frame = PrepareInputImage(frame, facenet_img_shape)\n",
    "    result = MakePrediction(facenet_exec_net, facenet_names[0], in_frame)\n",
    "#     print(result)\n",
    "    \n",
    "    try:\n",
    "    \n",
    "        detection_box(result, facenet_names[1], 0.9, frame)\n",
    "      \n",
    "    except:\n",
    "        end_time = time.time()\n",
    "        fps = np.round(1/(end_time-start_time))\n",
    "        cv2.putText(frame,text = f\"Current FPS: {fps}\",org = (0,30),\n",
    "                    fontFace = cv2.FONT_HERSHEY_SIMPLEX,\n",
    "                    fontScale = 0.5, color = (0,0,255),\n",
    "                    thickness = 2, lineType = cv2.LINE_AA)\n",
    "\n",
    "\n",
    "        cv2.imshow('WebCAM', frame)\n",
    "        \n",
    "\n",
    "    \n",
    "    end_time = time.time()\n",
    "    fps = np.round(1/(end_time-start_time))\n",
    "    cv2.putText(frame,text = f\"Current FPS: {fps}\",org = (0,30),\n",
    "                fontFace = cv2.FONT_HERSHEY_SIMPLEX,\n",
    "                fontScale = 0.5, color = (0,0,255),\n",
    "                thickness = 2, lineType = cv2.LINE_AA)\n",
    "        \n",
    "\n",
    "    cv2.imshow('WebCAM', frame)\n",
    "    cv2.imwrite(f'{str(frame_name).zfill(5)}.png',frame)\n",
    "    \n",
    "\n",
    "    if cv2.waitKey(30) == ord('q'):\n",
    "        break\n",
    "\n",
    "        \n",
    "## Very Important to remeber to close all windows to avoid breakdown\n",
    "cap.release()\n",
    "cv2.destroyAllWindows()\n"
   ]
  },
  {
   "cell_type": "code",
   "execution_count": null,
   "id": "ee0fc33a",
   "metadata": {},
   "outputs": [],
   "source": []
  }
 ],
 "metadata": {
  "kernelspec": {
   "display_name": "Python 3 (ipykernel)",
   "language": "python",
   "name": "python3"
  },
  "language_info": {
   "codemirror_mode": {
    "name": "ipython",
    "version": 3
   },
   "file_extension": ".py",
   "mimetype": "text/x-python",
   "name": "python",
   "nbconvert_exporter": "python",
   "pygments_lexer": "ipython3",
   "version": "3.8.8"
  }
 },
 "nbformat": 4,
 "nbformat_minor": 5
}
